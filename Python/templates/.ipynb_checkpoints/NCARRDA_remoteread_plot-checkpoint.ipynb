{
 "cells": [
  {
   "cell_type": "markdown",
   "metadata": {},
   "source": [
    "# Jupyter tutorial for plotting remote data (netcdf or grib -- doesn't matter) from NCAR RDA server\n",
    "Author: Dan Chavas, Purdue\n",
    "\n",
    "Last revision: 2019-01-09\n",
    "\n",
    "This is based off of Ryan Abernathey's [tutorial](https://rabernat.github.io/research_computing/intro-to-basemap.html)  on using Basemap in python -- thanks Ryan!"
   ]
  },
  {
   "cell_type": "markdown",
   "metadata": {},
   "source": [
    "## Read data directly from a remote source (i.e. NO need to download!) and make a basic plot"
   ]
  },
  {
   "cell_type": "markdown",
   "metadata": {},
   "source": [
    "### Import relevant packages"
   ]
  },
  {
   "cell_type": "code",
   "execution_count": null,
   "metadata": {
    "collapsed": true
   },
   "outputs": [],
   "source": [
    "import matplotlib\n",
    "matplotlib.use('Agg')\n",
    "import matplotlib.pyplot as plt\n",
    "from mpl_toolkits.basemap import Basemap\n",
    "import numpy as np\n",
    "from netCDF4 import Dataset,num2date,date2num\n",
    "import subprocess\n",
    "import os\n",
    "import shutil\n",
    "import tempfile\n",
    "import gzip\n",
    "import datetime\n",
    "import argparse\n",
    "%matplotlib inline\n",
    "    #above line is specifically for jupyter notebook interface; comment out when running .py script (rather than .ipynb) \n",
    "import warnings\n",
    "import matplotlib.cbook\n",
    "warnings.filterwarnings(\"ignore\",category=matplotlib.cbook.mplDeprecation)\n",
    "\n",
    "import netCDF4\n",
    "from datetime import datetime, timedelta\n",
    "# from windspharm.standard import VectorWind\n",
    "# from windspharm.tools import prep_data, recover_data, order_latdim"
   ]
  },
  {
   "cell_type": "markdown",
   "metadata": {},
   "source": [
    "### Read data directly from NCAR RDA (no downloading!)"
   ]
  },
  {
   "cell_type": "code",
   "execution_count": null,
   "metadata": {},
   "outputs": [],
   "source": [
    "# set up the URL to access the data server.\n",
    "# This example is for ERA-Interim Reanalysis data\n",
    "# See the NCAR RDA for available options\n",
    "\n",
    "## USER INPUT ########################################\n",
    "yyyymm_in='201802'\n",
    "ddhh_in='0306'\n",
    "date_in='%s%s'%(yyyymm_in,ddhh_in)  # this needs to be a recent data since only recent models are available for download\n",
    "var_in = 'Temperature_isobaric'  #see output below for other variable options \n",
    "i_plev = -1   #in ERA-I, pressure levels go TOA --> surface; thus last entry = level closest to the surface\n",
    "url='https://rda.ucar.edu/thredds/dodsC/files/e/ds627.0/ei.oper.an.pl/%s/ei.oper.an.pl.regn128sc.%s'%(yyyymm_in,date_in)\n",
    "############################################################\n",
    "\n",
    "# Extract the desired data\n",
    "# The indexing into the data set used by netCDF4 is standard python indexing\n",
    "file = netCDF4.Dataset(url)\n",
    "print('Contents of file:',file)    # this prints the contents of the file if you want to see what's inside\n",
    "lat  = file.variables['lat'][:]\n",
    "lon  = file.variables['lon'][:]\n",
    "plev  = file.variables['isobaric'][:]  #[hPa]\n",
    "plev_in = plev[i_plev] #[hPa]\n",
    "data = file.variables[var_in][0,i_plev,:,:]  #dims = [time, plev, lat, lon]; \"0\" = first entry in dimension\n",
    "file.close()\n",
    "\n",
    "print('Date = %s'%date_in)\n",
    "print('Variable = %s'%var_in)\n",
    "print('Pressure level = %i hPa'%plev_in)\n",
    "print('Shape of extracted data matrix is',data.shape)"
   ]
  },
  {
   "cell_type": "markdown",
   "metadata": {},
   "source": [
    "### Plot data"
   ]
  },
  {
   "cell_type": "code",
   "execution_count": null,
   "metadata": {},
   "outputs": [],
   "source": [
    "####################################\n",
    "## Plotting parameters\n",
    "lon_min_pl = 0\n",
    "lon_max_pl = 360\n",
    "lat_min_pl = -90\n",
    "lat_max_pl = 90\n",
    "var_in_units = 'K'  #if dataset includes this then you should read it in automatically\n",
    "\n",
    "##Define colors, colorbar\n",
    "data_min_pl = 250\n",
    "data_max_pl = 330\n",
    "data_delt = 5\n",
    "# data_min_pl = np.nanmin(data)\n",
    "# data_max_pl = np.nanmax(data)\n",
    "# data_delt = (data_max_pl-data_min_pl)/20\n",
    "###################################\n",
    "\n",
    "# set up the figure\n",
    "plt.figure()\n",
    "fig=plt.figure(figsize=(12, 8) )\n",
    "\n",
    "# Plot the field using Basemap.  Start with setting the map\n",
    "# projection using the limits of the lat/lon data itself:\n",
    "\n",
    "# Miller projection:\n",
    "m=Basemap(projection='mill',lat_ts=10,llcrnrlon=lon_min_pl, \\\n",
    "  urcrnrlon=lon_max_pl,llcrnrlat=lat_min_pl,urcrnrlat=lat_max_pl, \\\n",
    "  resolution='c')\n",
    "\n",
    "## If desired, regrid data to regular coarse grid (e.g. for non-gridded data)\n",
    "# dlon = 1.0  #[deg]\n",
    "# dlat = dlon #[deg]\n",
    "# lons_new=np.arange((180+dlon)*(2/dlon))*dlon-180.0\n",
    "# lats_new=np.arange((90+dlat)*(2/dlat))*dlat-90.0\n",
    "# #print(lons_new,lats_new)\n",
    "# from matplotlib.mlab import griddata\n",
    "# data_new = griddata(lon, lat, data, lons_new, lats_new, interp='linear')\n",
    "# print(lons_new.shape,lats_new.shape,data_new.shape)\n",
    "# lon = lons_new\n",
    "# lat = lats_new\n",
    "# data = data_new\n",
    "\n",
    "# convert the lat/lon values to x/y projections for a Cartesian plot\n",
    "x, y = m(*np.meshgrid(lon,lat))\n",
    "\n",
    "## FIRST: TERRAIN (if you have it)\n",
    "# delev = 200  #[m]\n",
    "# elev_min = 400  #[m]\n",
    "# elev_max = 5000  #[m]\n",
    "# contour_vals = np.arange(elev_min,elev_max,delev)\n",
    "# CS = m.contour(x, y, zsfc_new, contour_vals,\n",
    "#                  colors='grey', linewidths=0.4  # negative contours will be dashed by default\n",
    "#                  )\n",
    "##Terrain contour labels (if desired)\n",
    "# clevs = CS.levels[1::3]  #every 3rd level\n",
    "# clevs = np.arange(1000,np.max(CS.levels),1000)\n",
    "# plt.clabel(CS, clevs, inline=1, fontsize=10, fmt='%4i')\n",
    "\n",
    "## SECOND: DATA\n",
    "# plot the field using the fast pcolormesh routine \n",
    "\n",
    "# define the colormap -- discrete colorbar (https://stackoverflow.com/questions/14777066/matplotlib-discrete-colorbar)\n",
    "cmap = plt.cm.jet\n",
    "# extract all colors from the .jet map\n",
    "cmaplist = [cmap(i) for i in range(cmap.N)]\n",
    "# force the first color entry to be grey (if desired)\n",
    "#             cmaplist[0] = (.5,.5,.5,1.0)\n",
    "# create the new map\n",
    "cmap = cmap.from_list('Custom cmap', cmaplist, cmap.N)\n",
    "\n",
    "# define the bins and normalize\n",
    "N_colors = np.int16(((data_max_pl-data_min_pl)/data_delt)+1)\n",
    "bounds = np.linspace(data_min_pl,data_max_pl,N_colors)\n",
    "norm = matplotlib.colors.BoundaryNorm(bounds, cmap.N)\n",
    "\n",
    "m.pcolormesh(x,y,data,shading='flat',cmap=cmap, norm=norm)\n",
    "m.colorbar(location='right')\n",
    "\n",
    "# Add a coastline and axis values.\n",
    "\n",
    "m.drawcoastlines()\n",
    "#m.fillcontinents()\n",
    "m.drawmapboundary()\n",
    "m.drawparallels(np.arange(-90.,90.,30.),labels=[1,0,0,0])\n",
    "m.drawmeridians(np.arange(-180.,180.,30.),labels=[0,0,0,1])\n",
    "\n",
    "plt.title('%s [%s] %s %i hPa, ERA-I, direct from NCAR RDA (no downloading!)'%(var_in,var_in_units,date_in,plev_in))"
   ]
  }
 ],
 "metadata": {
  "kernelspec": {
   "display_name": "Python [conda env: dansfirstenvironment]",
   "language": "python",
   "name": "conda-env-dansfirstenvironment-py"
  },
  "language_info": {
   "codemirror_mode": {
    "name": "ipython",
    "version": 3
   },
   "file_extension": ".py",
   "mimetype": "text/x-python",
   "name": "python",
   "nbconvert_exporter": "python",
   "pygments_lexer": "ipython3",
   "version": "3.6.6"
  }
 },
 "nbformat": 4,
 "nbformat_minor": 2
}
