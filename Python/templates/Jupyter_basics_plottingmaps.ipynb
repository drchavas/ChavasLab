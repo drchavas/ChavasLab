{
 "cells": [
  {
   "cell_type": "markdown",
   "metadata": {},
   "source": [
    "# Basics of Jupyter and plotting maps\n",
    "Author: Dan Chavas, Purdue\n",
    "\n",
    "Last revision: 2019-01-09\n",
    "\n",
    "This is based off of Ryan Abernathey's [tutorial](https://rabernat.github.io/research_computing/intro-to-basemap.html)  on using Basemap in python -- thanks Ryan!"
   ]
  },
  {
   "cell_type": "code",
   "execution_count": null,
   "metadata": {},
   "outputs": [],
   "source": [
    "from datetime import date\n",
    "today = str(date.today())\n",
    "print(today)"
   ]
  },
  {
   "cell_type": "markdown",
   "metadata": {},
   "source": [
    "## Using JupyterHub\n",
    "Fun fact: the keyboard button above will show you all the keyboard shortcuts. A couple essential ones:\n",
    "(in \"command mode\" -- i.e. not in typing mode)\n",
    "a = new cell above\n",
    "\n",
    "b = new cell below\n",
    "\n",
    "m = change cell to markdown\n",
    "\n",
    "y = change cell to code\n",
    "\n",
    "dd = delete cell\n",
    "\n",
    "z = undo delete cell (once only)\n",
    "\n",
    "Control + Return = run the cell\n",
    "\n",
    "exclamation mark (\"!\") at the start of the line runs the command on the underlying shell (!!!)\n",
    "\n",
    "Here are some more shortcuts/tricks that might be useful: https://www.dataquest.io/blog/jupyter-notebook-tips-tricks-shortcuts/"
   ]
  },
  {
   "cell_type": "markdown",
   "metadata": {},
   "source": [
    "## Using conda\n",
    "Conda cheat sheet: https://conda.io/docs/_downloads/conda-cheatsheet.pdf\n",
    "\n",
    "If you need to download a different package version: https://anaconda.org/conda-forge/basemap"
   ]
  },
  {
   "cell_type": "markdown",
   "metadata": {},
   "source": [
    "## Basemap\n",
    "From a terminal, I first have to install basemap. To be able to install a new package, I believe (!) I need to createa  new environment; I tried doing the following in the default 'root' environment and it said permission denied.\n",
    "\n",
    "Apparently there are two ways you can create your own new environment (from [RCAC website](https://www.rcac.purdue.edu/knowledge/halstead/jupyter/jupyter): 1) from the Conda tab in the JupyterHub Dashboard, click the \"+\" sign in the top-right corner and name it whatever you like. 2) open up a terminal, ssh to the directory, and enter in the command line:\n",
    "\n",
    "module load anaconda/5.0.0-py36\n",
    "conda create -n <your-env-name> python=x.x ipython ipykernel\n",
    "source activate <your-env-name>\n",
    "ipython kernel install --user --name <env-name> --display-name \"Python (My Own Kernel)\"\n",
    "\n",
    "and then reload JupyterHub Dashboard.\n",
    "\n",
    "Next, reload this Jupyter Notebook and switch to your new environment: Kernel > Change Kernel > myenv\n",
    "\n",
    "Then install the package: Kernel > Conda Packages > search for it and add it over. (Note: you can also do this from the JupyterHub Dashboard \"Conda\" tab.)"
   ]
  },
  {
   "cell_type": "markdown",
   "metadata": {},
   "source": [
    "Next, let's import Basemap, matplotlib, and numpy:"
   ]
  },
  {
   "cell_type": "code",
   "execution_count": null,
   "metadata": {
    "collapsed": true
   },
   "outputs": [],
   "source": [
    "from mpl_toolkits.basemap import Basemap\n",
    "import matplotlib.pyplot as plt\n",
    "import numpy as np\n",
    "%matplotlib inline  \n",
    "import warnings\n",
    "import matplotlib.cbook\n",
    "warnings.filterwarnings(\"ignore\",category=matplotlib.cbook.mplDeprecation)"
   ]
  },
  {
   "cell_type": "markdown",
   "metadata": {},
   "source": [
    "What does Basemap have? You can query it and it will pop up a window explaining it"
   ]
  },
  {
   "cell_type": "code",
   "execution_count": null,
   "metadata": {
    "collapsed": true
   },
   "outputs": [],
   "source": [
    " Basemap?"
   ]
  },
  {
   "cell_type": "markdown",
   "metadata": {},
   "source": [
    "Our first example will create a mercator projection plot of the continents:"
   ]
  },
  {
   "cell_type": "code",
   "execution_count": null,
   "metadata": {},
   "outputs": [],
   "source": [
    "fig = plt.figure(num=None, figsize=(12, 8) )\n",
    "m = Basemap(projection='merc',llcrnrlat=-80,urcrnrlat=80,llcrnrlon=-180,urcrnrlon=180,resolution='c')\n",
    "m.drawcoastlines()\n",
    "plt.title(\"Mercator Projection\")\n",
    "plt.show()"
   ]
  },
  {
   "cell_type": "markdown",
   "metadata": {},
   "source": [
    "Now let's make it look nicer:"
   ]
  },
  {
   "cell_type": "code",
   "execution_count": null,
   "metadata": {},
   "outputs": [],
   "source": [
    "fig = plt.figure(num=None, figsize=(12, 8) )\n",
    "m = Basemap(projection='merc',llcrnrlat=-80,urcrnrlat=80,llcrnrlon=-180,urcrnrlon=180,resolution='c')\n",
    "m.drawcoastlines()\n",
    "m.fillcontinents(color='coral',lake_color='aqua')  #https://github.com/matplotlib/basemap/issues/394 this won't work with default basemap install (v1.0.7)! need newer version, downloaded from conda-forge https://anaconda.org/conda-forge/basemap\n",
    "# draw parallels and meridians.\n",
    "m.drawparallels(np.arange(-90.,91.,30.),labels=[True,True,False,False],dashes=[2,2])\n",
    "m.drawmeridians(np.arange(-180.,181.,60.),labels=[False,False,False,True],dashes=[2,2])\n",
    "m.drawmapboundary(fill_color='lightblue')\n",
    "plt.title(\"Mercator Projection\")"
   ]
  },
  {
   "cell_type": "markdown",
   "metadata": {},
   "source": [
    "Different projection:"
   ]
  },
  {
   "cell_type": "code",
   "execution_count": null,
   "metadata": {},
   "outputs": [],
   "source": [
    "fig = plt.figure(num=None, figsize=(12, 8) )\n",
    "m = Basemap(projection='moll',lon_0=0,resolution='c')    \n",
    "m.drawcoastlines()\n",
    "m.fillcontinents(color='tan',lake_color='lightblue')\n",
    "# draw parallels and meridians.\n",
    "m.drawparallels(np.arange(-90.,91.,30.),labels=[True,True,False,False],dashes=[2,2])\n",
    "m.drawmeridians(np.arange(-180.,181.,60.),labels=[False,False,False,False],dashes=[2,2])\n",
    "m.drawmapboundary(fill_color='lightblue')\n",
    "plt.title(\"Mollweide Projection\");"
   ]
  },
  {
   "cell_type": "markdown",
   "metadata": {},
   "source": [
    "How about zoomed in with state boundaries and rivers?"
   ]
  },
  {
   "cell_type": "code",
   "execution_count": null,
   "metadata": {},
   "outputs": [],
   "source": [
    "fig = plt.figure(num=None, figsize=(12, 8) ) \n",
    "m = Basemap(width=6000000,height=4500000,resolution='c',projection='aea',lat_1=35.,lat_2=45,lon_0=-100,lat_0=40)\n",
    "m.drawcoastlines(linewidth=0.5)\n",
    "m.fillcontinents(color='tan',lake_color='lightblue')\n",
    "# draw parallels and meridians.\n",
    "m.drawparallels(np.arange(-90.,91.,15.),labels=[True,True,False,False],dashes=[2,2])\n",
    "m.drawmeridians(np.arange(-180.,181.,15.),labels=[False,False,False,True],dashes=[2,2])\n",
    "m.drawmapboundary(fill_color='lightblue')\n",
    "m.drawcountries(linewidth=2, linestyle='solid', color='k' ) \n",
    "m.drawstates(linewidth=0.5, linestyle='solid', color='k')\n",
    "m.drawrivers(linewidth=0.5, linestyle='solid', color='blue')"
   ]
  },
  {
   "cell_type": "markdown",
   "metadata": {},
   "source": [
    "Add a great-circle path between two points:"
   ]
  },
  {
   "cell_type": "code",
   "execution_count": null,
   "metadata": {
    "scrolled": true
   },
   "outputs": [],
   "source": [
    "# create new figure, axes instances.\n",
    "fig=plt.figure(figsize=(12, 8) )\n",
    "ax=fig.add_axes([0.1,0.1,0.8,0.8])\n",
    "# setup mercator map projection.\n",
    "m = Basemap(llcrnrlon=-100.,llcrnrlat=20.,urcrnrlon=20.,urcrnrlat=60.,\\\n",
    "            rsphere=(6378137.00,6356752.3142),\\\n",
    "            resolution='l',projection='merc',\\\n",
    "            lat_0=40.,lon_0=-20.,lat_ts=20.)\n",
    "# nylat, nylon are lat/lon of New York\n",
    "nylat = 40.78; nylon = -73.98\n",
    "# lonlat, lonlon are lat/lon of London.\n",
    "lonlat = 51.53; lonlon = 0.08\n",
    "# draw great circle route between NY and London\n",
    "m.drawgreatcircle(nylon,nylat,lonlon,lonlat,linewidth=2,color='b')\n",
    "m.drawcoastlines()\n",
    "m.fillcontinents(color='tan',lake_color='lightblue')\n",
    "m.drawmapboundary(fill_color='lightblue')\n",
    "# draw parallels\n",
    "m.drawparallels(np.arange(10,90,20),labels=[1,1,0,1])\n",
    "# draw meridians\n",
    "m.drawmeridians(np.arange(-180,180,30),labels=[1,1,0,1])\n",
    "\n",
    "\n",
    "# When you use regular matplotlib commands, you need to get the mapping from the\n",
    "# map projection to x,y that matplotlib uses. This is accomplished using the Basemap object,\n",
    "# here which is assigned to be m()\n",
    "x, y = m(lonlon, lonlat)  \n",
    "plt.text(x, y, 'London',fontsize=12,fontweight='bold', ha='left',va='top',color='k')\n",
    "\n",
    "x, y = m(nylon, nylat)  \n",
    "plt.text(x, y, 'New York',fontsize=12,fontweight='bold',ha='left',va='top',color='k')\n",
    "\n",
    "ax.set_title('Great Circle from New York to London');"
   ]
  }
 ],
 "metadata": {
  "kernelspec": {
   "display_name": "Python [conda env: dansfirstenvironment]",
   "language": "python",
   "name": "conda-env-dansfirstenvironment-py"
  },
  "language_info": {
   "codemirror_mode": {
    "name": "ipython",
    "version": 3
   },
   "file_extension": ".py",
   "mimetype": "text/x-python",
   "name": "python",
   "nbconvert_exporter": "python",
   "pygments_lexer": "ipython3",
   "version": "3.6.6"
  }
 },
 "nbformat": 4,
 "nbformat_minor": 2
}
